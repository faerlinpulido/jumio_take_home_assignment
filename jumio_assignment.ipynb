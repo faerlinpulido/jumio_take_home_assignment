{
 "cells": [
  {
   "cell_type": "code",
   "execution_count": 2,
   "metadata": {},
   "outputs": [],
   "source": [
    "import os\n",
    "\n",
    "# ---------------------------------- #\n",
    "# Scikit-learn and related libraries #\n",
    "# ---------------------------------- #\n",
    "import pandas as pd\n",
    "import numpy as np\n",
    "from sklearn import metrics\n",
    "from sklearn.model_selection import RandomizedSearchCV, train_test_split\n",
    "\n",
    "# ---------- #\n",
    "# Tensorflow #\n",
    "# ---------- #\n",
    "import tensorflow as tf\n",
    "from tensorflow.keras.callbacks import CSVLogger\n",
    "from tensorflow.keras.utils import to_categorical\n",
    "from tensorflow.keras.metrics import categorical_accuracy\n",
    "from tensorflow.keras.preprocessing.image import ImageDataGenerator\n",
    "from tensorflow.keras.layers import Dense, Flatten, Conv2D, MaxPooling2D\n",
    "from tensorflow.keras.layers import Dropout, BatchNormalization\n",
    "tf.random.set_seed(seed=42)\n",
    "\n",
    "# ---------------------- #\n",
    "# User defined libraries #\n",
    "# ---------------------- #\n",
    "import util\n",
    "import confmatrix"
   ]
  },
  {
   "cell_type": "markdown",
   "metadata": {},
   "source": [
    "# __Jumio Take-Home Assignment__"
   ]
  },
  {
   "cell_type": "markdown",
   "metadata": {},
   "source": [
    "## __Abstract__\n",
    "***"
   ]
  },
  {
   "cell_type": "markdown",
   "metadata": {},
   "source": [
    "We build a classifier on the MNIST dataset. Our classifier is a convolutional neural network with three convolutional layers and one dense layer. With a threshold-based decision strategy, our classifier achieves a maximum false positive rate of __0.00015__ for each class in a test set with at least 1000 images per class. The coverage of our decision strategy is $88\\%$. \n",
    "\n",
    "__Author__: Faerlin Pulido <br>\n",
    "__GitHub__: https://github.com/faerlinpulido/jumio_take_home_assignment/blob/master/jumio_assignment.ipynb"
   ]
  },
  {
   "cell_type": "markdown",
   "metadata": {},
   "source": [
    "## __Data__\n",
    "***"
   ]
  },
  {
   "cell_type": "markdown",
   "metadata": {},
   "source": [
    "__Name__: MNIST <br>\n",
    "__Description__: Gray-scale images of hand-drawn digits from zero through nine. Each image is a $28\\times28$ image where each pixel indicates its lightness or darkness. The pixel-value is an integer ranging from 0 to 255. <br>\n",
    "__Source__: Provided data file <code>mnist.csv</code>\n",
    "\n",
    "We begin by fetching the data into a dataframe."
   ]
  },
  {
   "cell_type": "code",
   "execution_count": 3,
   "metadata": {},
   "outputs": [],
   "source": [
    "filepath = os.path.join('data', 'mnist.csv')\n",
    "df = pd.read_csv(filepath)"
   ]
  },
  {
   "cell_type": "markdown",
   "metadata": {},
   "source": [
    "To get a sense of our data, print the first five rows of the dataframe and determine the total number of rows."
   ]
  },
  {
   "cell_type": "code",
   "execution_count": 3,
   "metadata": {},
   "outputs": [
    {
     "data": {
      "text/html": [
       "<div>\n",
       "<style scoped>\n",
       "    .dataframe tbody tr th:only-of-type {\n",
       "        vertical-align: middle;\n",
       "    }\n",
       "\n",
       "    .dataframe tbody tr th {\n",
       "        vertical-align: top;\n",
       "    }\n",
       "\n",
       "    .dataframe thead th {\n",
       "        text-align: right;\n",
       "    }\n",
       "</style>\n",
       "<table border=\"1\" class=\"dataframe\">\n",
       "  <thead>\n",
       "    <tr style=\"text-align: right;\">\n",
       "      <th></th>\n",
       "      <th>label</th>\n",
       "      <th>pixel0</th>\n",
       "      <th>pixel1</th>\n",
       "      <th>pixel2</th>\n",
       "      <th>pixel3</th>\n",
       "      <th>pixel4</th>\n",
       "      <th>pixel5</th>\n",
       "      <th>pixel6</th>\n",
       "      <th>pixel7</th>\n",
       "      <th>pixel8</th>\n",
       "      <th>...</th>\n",
       "      <th>pixel774</th>\n",
       "      <th>pixel775</th>\n",
       "      <th>pixel776</th>\n",
       "      <th>pixel777</th>\n",
       "      <th>pixel778</th>\n",
       "      <th>pixel779</th>\n",
       "      <th>pixel780</th>\n",
       "      <th>pixel781</th>\n",
       "      <th>pixel782</th>\n",
       "      <th>pixel783</th>\n",
       "    </tr>\n",
       "  </thead>\n",
       "  <tbody>\n",
       "    <tr>\n",
       "      <td>0</td>\n",
       "      <td>1</td>\n",
       "      <td>0</td>\n",
       "      <td>0</td>\n",
       "      <td>0</td>\n",
       "      <td>0</td>\n",
       "      <td>0</td>\n",
       "      <td>0</td>\n",
       "      <td>0</td>\n",
       "      <td>0</td>\n",
       "      <td>0</td>\n",
       "      <td>...</td>\n",
       "      <td>0</td>\n",
       "      <td>0</td>\n",
       "      <td>0</td>\n",
       "      <td>0</td>\n",
       "      <td>0</td>\n",
       "      <td>0</td>\n",
       "      <td>0</td>\n",
       "      <td>0</td>\n",
       "      <td>0</td>\n",
       "      <td>0</td>\n",
       "    </tr>\n",
       "    <tr>\n",
       "      <td>1</td>\n",
       "      <td>0</td>\n",
       "      <td>0</td>\n",
       "      <td>0</td>\n",
       "      <td>0</td>\n",
       "      <td>0</td>\n",
       "      <td>0</td>\n",
       "      <td>0</td>\n",
       "      <td>0</td>\n",
       "      <td>0</td>\n",
       "      <td>0</td>\n",
       "      <td>...</td>\n",
       "      <td>0</td>\n",
       "      <td>0</td>\n",
       "      <td>0</td>\n",
       "      <td>0</td>\n",
       "      <td>0</td>\n",
       "      <td>0</td>\n",
       "      <td>0</td>\n",
       "      <td>0</td>\n",
       "      <td>0</td>\n",
       "      <td>0</td>\n",
       "    </tr>\n",
       "    <tr>\n",
       "      <td>2</td>\n",
       "      <td>1</td>\n",
       "      <td>0</td>\n",
       "      <td>0</td>\n",
       "      <td>0</td>\n",
       "      <td>0</td>\n",
       "      <td>0</td>\n",
       "      <td>0</td>\n",
       "      <td>0</td>\n",
       "      <td>0</td>\n",
       "      <td>0</td>\n",
       "      <td>...</td>\n",
       "      <td>0</td>\n",
       "      <td>0</td>\n",
       "      <td>0</td>\n",
       "      <td>0</td>\n",
       "      <td>0</td>\n",
       "      <td>0</td>\n",
       "      <td>0</td>\n",
       "      <td>0</td>\n",
       "      <td>0</td>\n",
       "      <td>0</td>\n",
       "    </tr>\n",
       "    <tr>\n",
       "      <td>3</td>\n",
       "      <td>4</td>\n",
       "      <td>0</td>\n",
       "      <td>0</td>\n",
       "      <td>0</td>\n",
       "      <td>0</td>\n",
       "      <td>0</td>\n",
       "      <td>0</td>\n",
       "      <td>0</td>\n",
       "      <td>0</td>\n",
       "      <td>0</td>\n",
       "      <td>...</td>\n",
       "      <td>0</td>\n",
       "      <td>0</td>\n",
       "      <td>0</td>\n",
       "      <td>0</td>\n",
       "      <td>0</td>\n",
       "      <td>0</td>\n",
       "      <td>0</td>\n",
       "      <td>0</td>\n",
       "      <td>0</td>\n",
       "      <td>0</td>\n",
       "    </tr>\n",
       "    <tr>\n",
       "      <td>4</td>\n",
       "      <td>0</td>\n",
       "      <td>0</td>\n",
       "      <td>0</td>\n",
       "      <td>0</td>\n",
       "      <td>0</td>\n",
       "      <td>0</td>\n",
       "      <td>0</td>\n",
       "      <td>0</td>\n",
       "      <td>0</td>\n",
       "      <td>0</td>\n",
       "      <td>...</td>\n",
       "      <td>0</td>\n",
       "      <td>0</td>\n",
       "      <td>0</td>\n",
       "      <td>0</td>\n",
       "      <td>0</td>\n",
       "      <td>0</td>\n",
       "      <td>0</td>\n",
       "      <td>0</td>\n",
       "      <td>0</td>\n",
       "      <td>0</td>\n",
       "    </tr>\n",
       "  </tbody>\n",
       "</table>\n",
       "<p>5 rows × 785 columns</p>\n",
       "</div>"
      ],
      "text/plain": [
       "   label  pixel0  pixel1  pixel2  pixel3  pixel4  pixel5  pixel6  pixel7  \\\n",
       "0      1       0       0       0       0       0       0       0       0   \n",
       "1      0       0       0       0       0       0       0       0       0   \n",
       "2      1       0       0       0       0       0       0       0       0   \n",
       "3      4       0       0       0       0       0       0       0       0   \n",
       "4      0       0       0       0       0       0       0       0       0   \n",
       "\n",
       "   pixel8  ...  pixel774  pixel775  pixel776  pixel777  pixel778  pixel779  \\\n",
       "0       0  ...         0         0         0         0         0         0   \n",
       "1       0  ...         0         0         0         0         0         0   \n",
       "2       0  ...         0         0         0         0         0         0   \n",
       "3       0  ...         0         0         0         0         0         0   \n",
       "4       0  ...         0         0         0         0         0         0   \n",
       "\n",
       "   pixel780  pixel781  pixel782  pixel783  \n",
       "0         0         0         0         0  \n",
       "1         0         0         0         0  \n",
       "2         0         0         0         0  \n",
       "3         0         0         0         0  \n",
       "4         0         0         0         0  \n",
       "\n",
       "[5 rows x 785 columns]"
      ]
     },
     "execution_count": 3,
     "metadata": {},
     "output_type": "execute_result"
    }
   ],
   "source": [
    "df.head()"
   ]
  },
  {
   "cell_type": "code",
   "execution_count": 4,
   "metadata": {},
   "outputs": [
    {
     "data": {
      "text/plain": [
       "42000"
      ]
     },
     "execution_count": 4,
     "metadata": {},
     "output_type": "execute_result"
    }
   ],
   "source": [
    "len(df)"
   ]
  },
  {
   "cell_type": "markdown",
   "metadata": {},
   "source": [
    "The dataframe contains 42000 images. Each row represents an image with a label (between 0 and 9) and 784 pixel values (between 0 and 255). Below, we show how many images for each label are present in our dataframe."
   ]
  },
  {
   "cell_type": "code",
   "execution_count": 5,
   "metadata": {},
   "outputs": [
    {
     "data": {
      "text/plain": [
       "0    4132\n",
       "1    4684\n",
       "2    4177\n",
       "3    4351\n",
       "4    4072\n",
       "5    3795\n",
       "6    4137\n",
       "7    4401\n",
       "8    4063\n",
       "9    4188\n",
       "Name: label, dtype: int64"
      ]
     },
     "execution_count": 5,
     "metadata": {},
     "output_type": "execute_result"
    }
   ],
   "source": [
    "df['label'].value_counts().sort_index()"
   ]
  },
  {
   "cell_type": "markdown",
   "metadata": {},
   "source": [
    "Next, we separate the images from the target labels and store them into numpy arrays. "
   ]
  },
  {
   "cell_type": "code",
   "execution_count": 6,
   "metadata": {},
   "outputs": [],
   "source": [
    "Y = df['label'].to_numpy()\n",
    "X = df.drop('label', axis=1).to_numpy()"
   ]
  },
  {
   "cell_type": "markdown",
   "metadata": {},
   "source": [
    "We reshape <code>X</code> to a 3-dimensional matrix where the third dimension indicates the number of channels. This is the shape that convolutional layers expects in Tensorflow. "
   ]
  },
  {
   "cell_type": "code",
   "execution_count": 7,
   "metadata": {},
   "outputs": [
    {
     "data": {
      "text/plain": [
       "(42000, 28, 28, 1)"
      ]
     },
     "execution_count": 7,
     "metadata": {},
     "output_type": "execute_result"
    }
   ],
   "source": [
    "X = np.reshape(X, [42000, 28, 28, 1])\n",
    "X.shape"
   ]
  },
  {
   "cell_type": "markdown",
   "metadata": {},
   "source": [
    "To visualize the images in our data, we plot 50 of them below using our utility function <code>plot_images()</code>."
   ]
  },
  {
   "cell_type": "code",
   "execution_count": 8,
   "metadata": {},
   "outputs": [
    {
     "data": {
      "image/png": "[encoded data removed]",
      "text/plain": [
       "<Figure size 864x1440 with 1 Axes>"
      ]
     },
     "metadata": {
      "needs_background": "light"
     },
     "output_type": "display_data"
    }
   ],
   "source": [
    "util.plot_images(X[:50], 28, images_per_row=10)"
   ]
  },
  {
   "cell_type": "markdown",
   "metadata": {},
   "source": [
    "## __Data Processing__\n",
    "***"
   ]
  },
  {
   "cell_type": "markdown",
   "metadata": {},
   "source": [
    "We split our data into three sets: training set (<code>X_train</code>), validation set (<code>X_valid</code>), and test set (<code>X_test</code>). We also create a variable called <code>X_train_and_valida</code>, which simply contains the images of the training and validation set. \n",
    "\n",
    "The prototype of our model will be trained on <code>X_train</code> and validated on <code>X_valid</code> to tune for the number of epochs. Then we will retrain our model on <code>X_train_and_valid</code> to obtain our final model, which will be evaluated on <code>X_test</code>. \n",
    "\n",
    "The stratified splitting of our data into these different sets is done by <code>sklearn.model_selection.train_test_split</code>."
   ]
  },
  {
   "cell_type": "code",
   "execution_count": 9,
   "metadata": {},
   "outputs": [],
   "source": [
    "X_train_and_valid, X_test, Y_train_and_valid, Y_test = train_test_split(X, Y, test_size=0.35, stratify=Y, random_state=42)\n",
    "X_train, X_valid, Y_train, Y_valid = train_test_split(X_train_and_valid, Y_train_and_valid, test_size=0.20, stratify=Y_train_and_valid, random_state=42)"
   ]
  },
  {
   "cell_type": "markdown",
   "metadata": {},
   "source": [
    "Below, we show the number of images belonging to each class in our training, validation, and test sets. Note that the test set has at least 1000 images per class. "
   ]
  },
  {
   "cell_type": "code",
   "execution_count": 10,
   "metadata": {},
   "outputs": [
    {
     "name": "stdout",
     "output_type": "stream",
     "text": [
      "Training set\n",
      "Class 0 has 2149 images\n",
      "Class 1 has 2435 images\n",
      "Class 2 has 2172 images\n",
      "Class 3 has 2262 images\n",
      "Class 4 has 2117 images\n",
      "Class 5 has 1974 images\n",
      "Class 6 has 2151 images\n",
      "Class 7 has 2289 images\n",
      "Class 8 has 2113 images\n",
      "Class 9 has 2178 images\n",
      "Total: 21840\n"
     ]
    }
   ],
   "source": [
    "print(\"Training set\")\n",
    "for i in range(10):\n",
    "    print(\"Class %d has %d images\" % (i, len(np.where(Y_train == i)[0])))\n",
    "print(\"Total: \" + str(len(Y_train)))"
   ]
  },
  {
   "cell_type": "code",
   "execution_count": 11,
   "metadata": {},
   "outputs": [
    {
     "name": "stdout",
     "output_type": "stream",
     "text": [
      "Validation set\n",
      "Class 0 has 537 images\n",
      "Class 1 has 609 images\n",
      "Class 2 has 543 images\n",
      "Class 3 has 566 images\n",
      "Class 4 has 530 images\n",
      "Class 5 has 493 images\n",
      "Class 6 has 538 images\n",
      "Class 7 has 572 images\n",
      "Class 8 has 528 images\n",
      "Class 9 has 544 images\n",
      "Total: 5460\n"
     ]
    }
   ],
   "source": [
    "print(\"Validation set\")\n",
    "for i in range(10):\n",
    "    print(\"Class %d has %d images\" % (i, len(np.where(Y_valid == i)[0])))\n",
    "print(\"Total: \" + str(len(Y_valid)))"
   ]
  },
  {
   "cell_type": "code",
   "execution_count": 12,
   "metadata": {},
   "outputs": [
    {
     "name": "stdout",
     "output_type": "stream",
     "text": [
      "Test set\n",
      "Class 0 has 1446 images\n",
      "Class 1 has 1640 images\n",
      "Class 2 has 1462 images\n",
      "Class 3 has 1523 images\n",
      "Class 4 has 1425 images\n",
      "Class 5 has 1328 images\n",
      "Class 6 has 1448 images\n",
      "Class 7 has 1540 images\n",
      "Class 8 has 1422 images\n",
      "Class 9 has 1466 images\n",
      "Total: 14700\n"
     ]
    }
   ],
   "source": [
    "print(\"Test set\")\n",
    "for i in range(10):\n",
    "    print(\"Class %d has %d images\" % (i, len(np.where(Y_test == i)[0])))\n",
    "print(\"Total: \" + str(len(Y_test)))"
   ]
  },
  {
   "cell_type": "markdown",
   "metadata": {},
   "source": [
    "Next, we one-hot encode our label vectors using <code>tensorflow.keras.utils.to_categorical</code>"
   ]
  },
  {
   "cell_type": "code",
   "execution_count": 13,
   "metadata": {},
   "outputs": [],
   "source": [
    "Y_train = to_categorical(Y_train)\n",
    "Y_valid = to_categorical(Y_valid)\n",
    "Y_train_and_valid = to_categorical(Y_train_and_valid)\n",
    "Y_test = to_categorical(Y_test)"
   ]
  },
  {
   "cell_type": "markdown",
   "metadata": {},
   "source": [
    "As a form of regularization, we train our images on augmented images. We use tensorflow's <code>ImageDataGenerator</code> to apply these transformations at training time. Below, we define two functions: one returns a generator that applies augmentations (rescale, rotation, and sheer) and the other returns a generator that applies rescaling only. \n",
    "\n",
    "The training image generator <code>train_generator</code> applies augmentations on the images of the training set at training time. The validation image generator <code>valid_generator</code> applies rescaling only. "
   ]
  },
  {
   "cell_type": "code",
   "execution_count": 14,
   "metadata": {},
   "outputs": [],
   "source": [
    "def get_generator_with_augmentation(X, Y, batch_size):\n",
    "    datagen = ImageDataGenerator(\n",
    "        rescale=1.0/255.0,\n",
    "        rotation_range=22.5, \n",
    "        shear_range=0.2)\n",
    "    generator = datagen.flow(X, Y, batch_size=batch_size)\n",
    "    return generator\n",
    "\n",
    "def get_generator_without_augmentation(X, Y, batch_size):\n",
    "    datagen = ImageDataGenerator(rescale=1.0/255.0)\n",
    "    generator = datagen.flow(X, Y, batch_size=batch_size)\n",
    "    return generator"
   ]
  },
  {
   "cell_type": "code",
   "execution_count": 15,
   "metadata": {},
   "outputs": [],
   "source": [
    "batch_size = 32\n",
    "train_generator = get_generator_with_augmentation(X_train, Y_train, batch_size)\n",
    "valid_generator = get_generator_without_augmentation(X_valid, Y_valid, batch_size)\n",
    "train_and_valid_generator = get_generator_with_augmentation(X_train_and_valid, Y_train_and_valid, batch_size)"
   ]
  },
  {
   "cell_type": "markdown",
   "metadata": {},
   "source": [
    "For evaluation, we don't need to create a generator for the test set. We simply rescale the pixel values. "
   ]
  },
  {
   "cell_type": "code",
   "execution_count": 16,
   "metadata": {},
   "outputs": [],
   "source": [
    "X_test = X_test / 255.0"
   ]
  },
  {
   "cell_type": "markdown",
   "metadata": {},
   "source": [
    "## __CNN Model__\n",
    "***"
   ]
  },
  {
   "cell_type": "markdown",
   "metadata": {},
   "source": [
    "Our model is a basic convolutional neural network taken from Chollet, 2018. Its convolutional base is made up of <code>Conv2D</code> and <code>MaxPooling2D</code> layers. On top of this convolutional base, we attach a dense layer with a softmax activation function. This model is defined below as <code>MyModel</code>. "
   ]
  },
  {
   "cell_type": "code",
   "execution_count": 17,
   "metadata": {},
   "outputs": [],
   "source": [
    "class MyModel(tf.keras.Model):\n",
    "   \n",
    "    def __init__(self, input_shape, number_of_classes):\n",
    "        \n",
    "        super(MyModel, self).__init__()\n",
    "      \n",
    "        # Convolutional Base\n",
    "        self.conv_A = Conv2D(32, (3,3), activation='relu', input_shape=input_shape)\n",
    "        self.max_pool_A = MaxPooling2D((2,2))\n",
    "        self.conv_B = Conv2D(64, (3,3), activation='relu')\n",
    "        self.max_pool_B = MaxPooling2D((2,2))\n",
    "        self.conv_C = Conv2D(64, (3,3), activation='relu')\n",
    "        \n",
    "        # Add classifier on top of base\n",
    "        self.flatten = Flatten()\n",
    "        self.dense = Dense(128, activation='relu')\n",
    "        self.out = Dense(number_of_classes, activation='softmax')\n",
    "         \n",
    "    def call(self, x):\n",
    "        x = self.conv_A(x)\n",
    "        x = self.max_pool_A(x)\n",
    "        x = self.conv_B(x)\n",
    "        x = self.max_pool_B(x)\n",
    "        x = self.conv_C(x)\n",
    "        x = self.flatten(x)\n",
    "        x = self.dense(x)\n",
    "        x = self.out(x)\n",
    "        return x"
   ]
  },
  {
   "cell_type": "markdown",
   "metadata": {},
   "source": [
    "## __Train Prototype__\n",
    "***"
   ]
  },
  {
   "cell_type": "markdown",
   "metadata": {},
   "source": [
    "In this section, we build and train prototype version of <code>MyModel</code>. It's a prototype because we are not training it on the full of images available to us. Instead, we will train this model on <code>X_train</code> and validated on <code>X_valid</code> to determine the number of epoch that avoids overfitting. In other words, we are tuning for the optimal number of epochs that would create a model that generalizes better. "
   ]
  },
  {
   "cell_type": "code",
   "execution_count": 18,
   "metadata": {},
   "outputs": [],
   "source": [
    "image_dim = 28\n",
    "channels = 1\n",
    "num_classes = 10\n",
    "batch_size = 32\n",
    "input_shape = (image_dim, image_dim, channels)\n",
    "\n",
    "model = MyModel(input_shape, num_classes)\n",
    "model.build(input_shape=(batch_size, image_dim, image_dim, channels))\n",
    "model.compile(loss='categorical_crossentropy', optimizer='rmsprop', metrics=[categorical_accuracy])"
   ]
  },
  {
   "cell_type": "markdown",
   "metadata": {},
   "source": [
    "Next, we create a <code>saved</code> folder where we store the saved weights and histories of our fits. "
   ]
  },
  {
   "cell_type": "code",
   "execution_count": 19,
   "metadata": {},
   "outputs": [],
   "source": [
    "saved_folder = 'saved'\n",
    "if (not os.path.exists(saved_folder)):\n",
    "    os.makedirs(saved_folder)\n",
    "history_filepath = os.path.join(saved_folder, 'history_train.log')"
   ]
  },
  {
   "cell_type": "markdown",
   "metadata": {},
   "source": [
    "If <code>history_filepath</code> already exists in the <code>saved</code> folder, we simply load it. Otherwise, we call <code>model.fit_generator()</code> to train our model. "
   ]
  },
  {
   "cell_type": "code",
   "execution_count": 20,
   "metadata": {},
   "outputs": [],
   "source": [
    "if (os.path.exists(history_filepath)):\n",
    "    history = pd.read_csv(history_filepath)\n",
    "else:\n",
    "    epochs = 20\n",
    "    train_steps_per_epoch = len(X_train)//batch_size\n",
    "    valid_steps_per_epoch = len(X_valid)//batch_size\n",
    "    csvlogger = CSVLogger(history_filepath)\n",
    "    history = model.fit_generator(\n",
    "        train_generator,\n",
    "        steps_per_epoch=train_steps_per_epoch,\n",
    "        epochs=epochs,\n",
    "        validation_data=valid_generator,\n",
    "        validation_steps=valid_steps_per_epoch, \n",
    "        callbacks=[csvlogger]).history"
   ]
  },
  {
   "cell_type": "code",
   "execution_count": 21,
   "metadata": {},
   "outputs": [
    {
     "data": {
      "image/png": "[encoded data removed]",
      "text/plain": [
       "<Figure size 864x360 with 2 Axes>"
      ]
     },
     "metadata": {
      "needs_background": "light"
     },
     "output_type": "display_data"
    }
   ],
   "source": [
    "util.plot_accuracy_loss(history)"
   ]
  },
  {
   "cell_type": "markdown",
   "metadata": {},
   "source": [
    "As expected, the training accuracy increases and training loss decreases with every epoch. On the other hand, the validation accuracy seem to reach a ceiling while the validation loss decreases, then reaches a minimum at around epoch=10, then increases with epoch. Beyond this minimum, the model is overoptimizing on the training data (overfitting). To buid a model that generalizes well outside of the training data, we will train a model with __10 epochs__.  "
   ]
  },
  {
   "cell_type": "markdown",
   "metadata": {},
   "source": [
    "## __Train Final Model__\n",
    "***"
   ]
  },
  {
   "cell_type": "markdown",
   "metadata": {},
   "source": [
    "Following from the discussion above, we create a new instance of <code>MyModel</code> and train on it on the full available non-test set, (<code>X_train_and_valid</code>) for 10 epochs. "
   ]
  },
  {
   "cell_type": "code",
   "execution_count": 22,
   "metadata": {},
   "outputs": [],
   "source": [
    "epochs = 10\n",
    "model = MyModel(input_shape, num_classes)\n",
    "model.build(input_shape=(batch_size, image_dim, image_dim, channels))\n",
    "model.compile(loss='categorical_crossentropy', \n",
    "              optimizer='rmsprop', \n",
    "              metrics=[categorical_accuracy])"
   ]
  },
  {
   "cell_type": "markdown",
   "metadata": {},
   "source": [
    "If we have the weights and history files already stored in the <code>saved</code> folder, simply load them; otherwise, we peform the fit. "
   ]
  },
  {
   "cell_type": "code",
   "execution_count": 23,
   "metadata": {},
   "outputs": [],
   "source": [
    "history_filepath = os.path.join(saved_folder, 'history_full_train_set.log')\n",
    "weights_filepath = os.path.join(saved_folder, 'weights_full_train_set.h5')\n",
    "if (os.path.exists(weights_filepath)):\n",
    "    model.load_weights(weights_filepath)\n",
    "else:\n",
    "    csvlogger = CSVLogger(history_filepath)\n",
    "    train_and_valid_steps_per_epoch = len(X_train_and_valid)//batch_size\n",
    "    history = model.fit_generator(\n",
    "        train_and_valid_generator,\n",
    "        steps_per_epoch=train_and_valid_steps_per_epoch,\n",
    "        epochs=epochs,\n",
    "        callbacks=[csvlogger]).history\n",
    "    model.save_weights(weights_filepath)"
   ]
  },
  {
   "cell_type": "markdown",
   "metadata": {},
   "source": [
    "To evaluate the performance of our model, we compute the following:\n",
    "- confusion matrix\n",
    "- per class FPR\n",
    "- per class TPR\n",
    "on the test set <code>X_test</code>. "
   ]
  },
  {
   "cell_type": "code",
   "execution_count": 24,
   "metadata": {},
   "outputs": [],
   "source": [
    "Y_pred = model.predict(X_test)"
   ]
  },
  {
   "cell_type": "markdown",
   "metadata": {},
   "source": [
    "The confusion matrix is shown below:"
   ]
  },
  {
   "cell_type": "code",
   "execution_count": 25,
   "metadata": {},
   "outputs": [
    {
     "data": {
      "text/plain": [
       "array([[1435,    0,    1,    0,    0,    1,    6,    0,    1,    2],\n",
       "       [   0, 1631,    2,    0,    1,    0,    0,    3,    3,    0],\n",
       "       [   0,    4, 1445,    1,    2,    0,    0,    8,    2,    0],\n",
       "       [   1,    1,    4, 1505,    0,    3,    0,    7,    1,    1],\n",
       "       [   0,    1,    1,    0, 1410,    0,    1,    1,    1,   10],\n",
       "       [   2,    0,    0,    3,    2, 1291,   11,    3,   12,    4],\n",
       "       [   0,    1,    0,    0,    2,    0, 1442,    0,    3,    0],\n",
       "       [   0,    2,    6,    0,    6,    0,    0, 1524,    0,    2],\n",
       "       [   0,    0,    1,    1,    4,    0,    0,    1, 1411,    4],\n",
       "       [   1,    0,    0,    0,    3,    1,    0,   10,    2, 1449]])"
      ]
     },
     "execution_count": 25,
     "metadata": {},
     "output_type": "execute_result"
    }
   ],
   "source": [
    "Y_pred_ = np.argmax(Y_pred, axis=1)\n",
    "Y_pred_ = np.argmax(Y_pred, axis=1)\n",
    "Y_test_ = np.argmax(Y_test, axis=1)\n",
    "conf_mx = metrics.confusion_matrix(Y_test_, Y_pred_)\n",
    "conf_mx"
   ]
  },
  {
   "cell_type": "markdown",
   "metadata": {},
   "source": [
    "To compute the TPR and FPR per class, we make use of <code>confmatrix.get_true_positive_rate</code> and <code>confmatrix.get_false_positive_rate</code>. Refer to the appendix of this notebook for a short discussion on how this is implemented and refer to <code>confmatrix.py</code> for the source code. "
   ]
  },
  {
   "cell_type": "code",
   "execution_count": 26,
   "metadata": {},
   "outputs": [
    {
     "name": "stdout",
     "output_type": "stream",
     "text": [
      "Class 0: TPR=0.9924 FPR=0.00030180\n",
      "Class 1: TPR=0.9945 FPR=0.00068913\n",
      "Class 2: TPR=0.9884 FPR=0.00113310\n",
      "Class 3: TPR=0.9882 FPR=0.00037945\n",
      "Class 4: TPR=0.9895 FPR=0.00150659\n",
      "Class 5: TPR=0.9721 FPR=0.00037392\n",
      "Class 6: TPR=0.9959 FPR=0.00135829\n",
      "Class 7: TPR=0.9896 FPR=0.00250760\n",
      "Class 8: TPR=0.9923 FPR=0.00188281\n",
      "Class 9: TPR=0.9884 FPR=0.00173795\n"
     ]
    }
   ],
   "source": [
    "for class_index in range(10):\n",
    "    tpr = confmatrix.get_true_positive_rate(class_index, conf_mx)\n",
    "    fpr = confmatrix.get_false_positive_rate(class_index, conf_mx)\n",
    "    print(\"Class %d: TPR=%0.4f FPR=%0.8f\" % (class_index, tpr, fpr))"
   ]
  },
  {
   "cell_type": "markdown",
   "metadata": {},
   "source": [
    "In the next section below, we define a decision strategy that will improve the the FPR our model to a maximum of __0.00015__ for each class in the test set. "
   ]
  },
  {
   "cell_type": "markdown",
   "metadata": {},
   "source": [
    "## __Final Model with Decision Strategy__\n",
    "***"
   ]
  },
  {
   "cell_type": "markdown",
   "metadata": {},
   "source": [
    "We will define a decision strategy to improve the FPR of our model to a maximum of __0.00015__ for each class in the test set. Given a prediction $y$ from our model, the new prediction $h(y)$ will be\n",
    "\n",
    "$$\n",
    "h(y) = \n",
    "\\begin{cases} \n",
    "    \\text{argmax}(y) &, \\text{if}\\ \\max(y) \\ge \\text{threshold} \\\\\n",
    "    \\text{not_sure} &, \\text{otherwise}\n",
    "\\end{cases}\n",
    "$$\n",
    "\n",
    "for some threshold. For our model and test set, we find that $\\text{threshold} = 0.999975$ accomplishes our goal. Carrying over the predictions (<code>Y_pred</code>) from the previous section, this new decision strategy is implemented below, "
   ]
  },
  {
   "cell_type": "code",
   "execution_count": 27,
   "metadata": {},
   "outputs": [],
   "source": [
    "Y_test_ = []\n",
    "Y_pred_ = []\n",
    "threshold = 0.999975\n",
    "for i in range(len(Y_pred)):\n",
    "    pred = Y_pred[i]\n",
    "    if (max(pred) >= threshold):\n",
    "        Y_pred_.append(Y_test[i])\n",
    "        Y_test_.append(Y_pred[i])\n",
    "Y_test_ = np.array(Y_test_)\n",
    "Y_pred_ = np.array(Y_pred_)"
   ]
  },
  {
   "cell_type": "markdown",
   "metadata": {},
   "source": [
    "The new confusion matrix, per class TPR and per class FPR after applying our new decision strategy are then given by"
   ]
  },
  {
   "cell_type": "code",
   "execution_count": 28,
   "metadata": {},
   "outputs": [
    {
     "data": {
      "text/plain": [
       "array([[1352,    0,    0,    0,    0,    0,    0,    0,    0,    0],\n",
       "       [   0, 1528,    0,    0,    0,    0,    0,    0,    0,    0],\n",
       "       [   0,    0, 1195,    0,    0,    0,    0,    0,    0,    0],\n",
       "       [   0,    0,    0, 1382,    0,    0,    0,    0,    0,    0],\n",
       "       [   0,    0,    1,    0, 1299,    0,    0,    0,    0,    0],\n",
       "       [   0,    0,    0,    1,    0, 1048,    0,    0,    0,    0],\n",
       "       [   0,    0,    0,    0,    0,    0, 1359,    0,    0,    0],\n",
       "       [   0,    0,    0,    0,    0,    0,    0, 1288,    0,    1],\n",
       "       [   0,    0,    0,    0,    0,    0,    0,    0, 1290,    0],\n",
       "       [   0,    0,    0,    0,    1,    0,    0,    0,    0, 1245]])"
      ]
     },
     "execution_count": 28,
     "metadata": {},
     "output_type": "execute_result"
    }
   ],
   "source": [
    "Y_pred_ = np.argmax(Y_pred_, axis=1)\n",
    "Y_test_ = np.argmax(Y_test_, axis=1)\n",
    "conf_mx = metrics.confusion_matrix(Y_test_, Y_pred_)\n",
    "conf_mx"
   ]
  },
  {
   "cell_type": "code",
   "execution_count": 29,
   "metadata": {},
   "outputs": [
    {
     "name": "stdout",
     "output_type": "stream",
     "text": [
      "Class 0: TPR=1.0000 FPR=0.00000000\n",
      "Class 1: TPR=1.0000 FPR=0.00000000\n",
      "Class 2: TPR=1.0000 FPR=0.00008478\n",
      "Class 3: TPR=1.0000 FPR=0.00008615\n",
      "Class 4: TPR=0.9992 FPR=0.00008554\n",
      "Class 5: TPR=0.9990 FPR=0.00000000\n",
      "Class 6: TPR=1.0000 FPR=0.00000000\n",
      "Class 7: TPR=0.9992 FPR=0.00000000\n",
      "Class 8: TPR=1.0000 FPR=0.00000000\n",
      "Class 9: TPR=0.9992 FPR=0.00008515\n"
     ]
    }
   ],
   "source": [
    "for class_index in range(10):\n",
    "    tpr = confmatrix.get_true_positive_rate(class_index, conf_mx)\n",
    "    fpr = confmatrix.get_false_positive_rate(class_index, conf_mx)\n",
    "    print(\"Class %d: TPR=%0.4f FPR=%0.8f\" % (class_index, tpr, fpr))"
   ]
  },
  {
   "cell_type": "markdown",
   "metadata": {},
   "source": [
    "We also compute the coverage of our decision strategy."
   ]
  },
  {
   "cell_type": "code",
   "execution_count": 30,
   "metadata": {},
   "outputs": [
    {
     "name": "stdout",
     "output_type": "stream",
     "text": [
      "Coverage = 0.88\n"
     ]
    }
   ],
   "source": [
    "total_examples = len(Y_pred)\n",
    "number_of_not_sure_predictions = len(Y_pred) - len(Y_pred_)\n",
    "coverage = 1 - (number_of_not_sure_predictions)/(total_examples)\n",
    "print(\"Coverage = %0.2f\" % coverage)"
   ]
  },
  {
   "cell_type": "markdown",
   "metadata": {},
   "source": [
    "As shown above, the FPR per class is below the maximum of __0.00015__ and our coverage is around $88\\%$."
   ]
  },
  {
   "cell_type": "markdown",
   "metadata": {},
   "source": [
    "## __References__\n",
    "***"
   ]
  },
  {
   "cell_type": "markdown",
   "metadata": {},
   "source": [
    "1. Chollet, Francois. \"_Deep Learning with Python_\". Manning Publications Co. 2018. \n",
    "2. LeCun, Yann., Cortes, Corinna., Burges, Christopher. \"_The MNIST Database_\". (http://yann.lecun.com/exdb/mnist/)"
   ]
  },
  {
   "cell_type": "markdown",
   "metadata": {},
   "source": [
    "## __Appendix__\n",
    "***"
   ]
  },
  {
   "cell_type": "markdown",
   "metadata": {},
   "source": [
    "The __confusion matrix__ visualizes the performance of a classifier. For confusion matrix $C$, the entry $C_{ij}$ is equal to the number of observations known to be in class $i$ and predicted to be in class $j$. From the confusion matrix, we can compute the following quantities: true positives (TP), true negatives (TN), false positives (FP) and true negative (TN). These quantities are visualized in the image below, which is taken from a stackoverflow post (https://stackoverflow.com/questions/50666091/true-positive-rate-and-false-positive-rate-tpr-fpr-for-multi-class-data-in-py) \n",
    "![](img/confusion_matrix.jpg)\n",
    "\n"
   ]
  },
  {
   "cell_type": "markdown",
   "metadata": {},
   "source": [
    "Using these quantities, we can compute the true positive rate (TPR) and false positive rate (FPR) as follows:\n",
    "\n",
    "$$TPR = \\frac{TP}{TP+FN}$$\n",
    "\n",
    "$$FPR = \\frac{FP}{FP+TN}$$\n",
    "\n",
    "Computing these quantities are implemented in <code>confmatrix.py</code>. "
   ]
  },
  {
   "cell_type": "markdown",
   "metadata": {},
   "source": [
    "***"
   ]
  }
 ],
 "metadata": {
  "kernelspec": {
   "display_name": "Python 3",
   "language": "python",
   "name": "python3"
  },
  "language_info": {
   "codemirror_mode": {
    "name": "ipython",
    "version": 3
   },
   "file_extension": ".py",
   "mimetype": "text/x-python",
   "name": "python",
   "nbconvert_exporter": "python",
   "pygments_lexer": "ipython3",
   "version": "3.7.4"
  }
 },
 "nbformat": 4,
 "nbformat_minor": 4
}
